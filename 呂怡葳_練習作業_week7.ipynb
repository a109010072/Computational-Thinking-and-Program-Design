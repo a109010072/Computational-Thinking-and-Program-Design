{
  "nbformat": 4,
  "nbformat_minor": 0,
  "metadata": {
    "colab": {
      "name": "呂怡葳-練習作業-week7.ipynb",
      "provenance": [],
      "authorship_tag": "ABX9TyNbkgDCgwSnZP8FRJ6vaX5q",
      "include_colab_link": true
    },
    "kernelspec": {
      "name": "python3",
      "display_name": "Python 3"
    },
    "language_info": {
      "name": "python"
    }
  },
  "cells": [
    {
      "cell_type": "markdown",
      "metadata": {
        "id": "view-in-github",
        "colab_type": "text"
      },
      "source": [
        "<a href=\"https://colab.research.google.com/github/a109010072/Computational-Thinking-and-Program-Design/blob/main/%E5%91%82%E6%80%A1%E8%91%B3_%E7%B7%B4%E7%BF%92%E4%BD%9C%E6%A5%AD_week7.ipynb\" target=\"_parent\"><img src=\"https://colab.research.google.com/assets/colab-badge.svg\" alt=\"Open In Colab\"/></a>"
      ]
    },
    {
      "cell_type": "markdown",
      "metadata": {
        "id": "_MeYROeUqq9-"
      },
      "source": [
        ""
      ]
    },
    {
      "cell_type": "code",
      "metadata": {
        "colab": {
          "base_uri": "https://localhost:8080/"
        },
        "id": "Twf4E6ieqv_c",
        "outputId": "a8db3593-3547-4ed8-e484-80c26d863af9"
      },
      "source": [
        "name = input('請問貴姓大名?')\n",
        "...: print('你好,', name)\n",
        "...:\n",
        "...: age = int(input('請問年紀?'))\n",
        "...: print('原來你', age ,'歲')\n",
        "...:\n",
        "...: weight = float(input('請問體重?'))\n",
        "...: print('體重為', weight)"
      ],
      "execution_count": 4,
      "outputs": [
        {
          "output_type": "stream",
          "text": [
            "請問貴姓大名?yiwei\n",
            "你好, yiwei\n",
            "請問年紀?19\n",
            "原來你 19 歲\n",
            "請問體重?45\n",
            "體重為 45.0\n"
          ],
          "name": "stdout"
        }
      ]
    },
    {
      "cell_type": "code",
      "metadata": {
        "colab": {
          "base_uri": "https://localhost:8080/"
        },
        "id": "xOpPk5ohrAjO",
        "outputId": "d2dbfee0-e6f3-47b0-9d09-9da0a4cf34ab"
      },
      "source": [
        "In [1]: ## 給我半徑、用公式計算圓面積與周長\n",
        "...: ## Input\n",
        "...: radius = float(input('請輸入半徑?'))\n",
        "...: PI = 3.14159\n",
        "...: ## Process\n",
        "...: circumference = 2 * PI * radius\n",
        "...: area = radius * radius * PI\n",
        "...: ## Output\n",
        "...: print(f'圓周長為 {circumference}, 圓面積為 {area}。')\n"
      ],
      "execution_count": 12,
      "outputs": [
        {
          "output_type": "stream",
          "text": [
            "請輸入半徑?10\n",
            "圓周長為 62.8318, 圓面積為 314.159。\n"
          ],
          "name": "stdout"
        }
      ]
    },
    {
      "cell_type": "code",
      "metadata": {
        "colab": {
          "base_uri": "https://localhost:8080/"
        },
        "id": "Vo9MKRS4ronX",
        "outputId": "55c46cab-5300-47a2-ac48-6c825e93b42d"
      },
      "source": [
        "In [1]: ## Input\n",
        "...: c = float(input('請輸入攝氏溫度？'))\n",
        "...:\n",
        "...: ## Process\n",
        "...: f = c * 9/5 + 32\n",
        "...:\n",
        "...: ## Output\n",
        "...: print('華氏溫度為', f)"
      ],
      "execution_count": 10,
      "outputs": [
        {
          "output_type": "stream",
          "text": [
            "請輸入攝氏溫度？45\n",
            "華氏溫度為 113.0\n"
          ],
          "name": "stdout"
        }
      ]
    },
    {
      "cell_type": "code",
      "metadata": {
        "colab": {
          "base_uri": "https://localhost:8080/"
        },
        "id": "nMjFiWS5rK2c",
        "outputId": "dcddd214-be4a-4448-bab5-c97b41b2976c"
      },
      "source": [
        "In [2]: ## 延伸：華氏轉攝氏\n",
        "...: c1 = (f - 32) * (5/9)\n",
        "...: print(\"攝氏溫度\", c1)"
      ],
      "execution_count": 11,
      "outputs": [
        {
          "output_type": "stream",
          "text": [
            "攝氏溫度 45.0\n"
          ],
          "name": "stdout"
        }
      ]
    },
    {
      "cell_type": "code",
      "metadata": {
        "id": "TGNQfpbhrtiN"
      },
      "source": [
        ""
      ],
      "execution_count": null,
      "outputs": []
    }
  ]
}