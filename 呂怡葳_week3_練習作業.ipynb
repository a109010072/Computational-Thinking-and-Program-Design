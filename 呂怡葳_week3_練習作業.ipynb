{
  "nbformat": 4,
  "nbformat_minor": 0,
  "metadata": {
    "colab": {
      "name": "呂怡葳-week3-練習作業.ipynb",
      "provenance": [],
      "authorship_tag": "ABX9TyM/y29TV9flmwhYKcuJ+FqG",
      "include_colab_link": true
    },
    "kernelspec": {
      "name": "python3",
      "display_name": "Python 3"
    }
  },
  "cells": [
    {
      "cell_type": "markdown",
      "metadata": {
        "id": "view-in-github",
        "colab_type": "text"
      },
      "source": [
        "<a href=\"https://colab.research.google.com/github/a109010072/Computational-Thinking-and-Program-Design/blob/main/%E5%91%82%E6%80%A1%E8%91%B3_week3_%E7%B7%B4%E7%BF%92%E4%BD%9C%E6%A5%AD.ipynb\" target=\"_parent\"><img src=\"https://colab.research.google.com/assets/colab-badge.svg\" alt=\"Open In Colab\"/></a>"
      ]
    },
    {
      "cell_type": "markdown",
      "metadata": {
        "id": "wsZPLEwqNpT4"
      },
      "source": [
        "#隨堂練習"
      ]
    },
    {
      "cell_type": "code",
      "metadata": {
        "colab": {
          "base_uri": "https://localhost:8080/"
        },
        "id": "kR96Ryi9Nskf",
        "outputId": "cf26b2e1-6728-4c39-c969-159edcb40783"
      },
      "source": [
        "print(1+1)"
      ],
      "execution_count": 2,
      "outputs": [
        {
          "output_type": "stream",
          "text": [
            "2\n"
          ],
          "name": "stdout"
        }
      ]
    },
    {
      "cell_type": "markdown",
      "metadata": {
        "id": "QgMN7PjEReI3"
      },
      "source": [
        "用電腦解決問題！電腦由軟硬體組成"
      ]
    },
    {
      "cell_type": "markdown",
      "metadata": {
        "id": "V1SlcCNXOMUn"
      },
      "source": [
        ""
      ]
    },
    {
      "cell_type": "markdown",
      "metadata": {
        "id": "A9vjeHBxX4Qu"
      },
      "source": [
        ""
      ]
    },
    {
      "cell_type": "markdown",
      "metadata": {
        "id": "23Uv7K4pOTEv"
      },
      "source": [
        "#課後練習"
      ]
    },
    {
      "cell_type": "markdown",
      "metadata": {
        "id": "CMtNMsCHPXpX"
      },
      "source": [
        "課後練習則為從一則新聞報導，提出你對新聞系學生為什麼要學「運算思維與程式設計」的見解。（告訴我新聞連結，以及你的觀點即可。）\r\n"
      ]
    },
    {
      "cell_type": "markdown",
      "metadata": {
        "id": "gQ8pYQF1PiHG"
      },
      "source": [
        "https://udn.com/news/story/6885/4699077"
      ]
    },
    {
      "cell_type": "markdown",
      "metadata": {
        "id": "vnpt2lWIQfNH"
      },
      "source": [
        "身為新聞系的學生，我認為的確要學習「運算思維與程式設計」，因為在往後的幾年，我們會將資訊力作為衡量一國教育的標準，此篇報導指出，美國、英國程式設計都從五歲開始進行教育，生長在台灣的自己，是到了高中時期才有了部分的了解，在大學時期接觸程式教育，我認為將來自己投身於新聞領域時，能夠用程式設計去預測颱風動向或是解析閱聽眾市場。\r\n",
        "\r\n"
      ]
    },
    {
      "cell_type": "code",
      "metadata": {
        "id": "gPyBuSivTW27"
      },
      "source": [
        ""
      ],
      "execution_count": null,
      "outputs": []
    }
  ]
}