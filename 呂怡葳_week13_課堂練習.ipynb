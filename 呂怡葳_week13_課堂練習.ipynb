{
  "nbformat": 4,
  "nbformat_minor": 0,
  "metadata": {
    "kernelspec": {
      "display_name": "Python 3",
      "language": "python",
      "name": "python3"
    },
    "language_info": {
      "codemirror_mode": {
        "name": "ipython",
        "version": 3
      },
      "file_extension": ".py",
      "mimetype": "text/x-python",
      "name": "python",
      "nbconvert_exporter": "python",
      "pygments_lexer": "ipython3",
      "version": "3.8.5"
    },
    "colab": {
      "name": "呂怡葳-week13-課堂練習.ipynb",
      "provenance": [],
      "toc_visible": true,
      "include_colab_link": true
    }
  },
  "cells": [
    {
      "cell_type": "markdown",
      "metadata": {
        "id": "view-in-github",
        "colab_type": "text"
      },
      "source": [
        "<a href=\"https://colab.research.google.com/github/a109010072/Computational-Thinking-and-Program-Design/blob/main/%E5%91%82%E6%80%A1%E8%91%B3_week13_%E8%AA%B2%E5%A0%82%E7%B7%B4%E7%BF%92.ipynb\" target=\"_parent\"><img src=\"https://colab.research.google.com/assets/colab-badge.svg\" alt=\"Open In Colab\"/></a>"
      ]
    },
    {
      "cell_type": "markdown",
      "metadata": {
        "id": "JoRIhoPm2RSI"
      },
      "source": [
        "### 習題解答"
      ]
    },
    {
      "cell_type": "markdown",
      "metadata": {
        "id": "H-pUUN5l2RSL"
      },
      "source": [
        "**練習2. 時尚偵測師**\n",
        "\n",
        "時尚達人Cher 和 Dionne要參加一個華麗的派對。他們想確保他們的穿搭與眾不同，但有也想保留一點共同的地方，比如兩人都喜歡粉紅色。讓我們寫一些程式，確保兩人的穿搭都個性十足！\n",
        "\n",
        "～首先，請用變數賦值的方式決定兩位的穿著\n",
        "\n",
        "例如下面的穿著建議，請同學自行修改\n",
        "cher_dress_color = \"pink\"\n",
        "cher_shoe_color = \"white\"\n",
        "cher_has_earrings = True\n",
        "dionne_dress_color = \"purple\"\n",
        "dionne_shoe_color = \"pink\"\n",
        "dionne_has_earrings = True\n",
        "\n",
        "\n",
        "～其次，請同學用真假值做時尚偵測，檢查一下兩位時尚達人的穿搭是否符合下面的要點:\n",
        "\n",
        "至少有一人穿紫色 At least one person is wearing purple?\n",
        "兩人穿不同顏色的衣服Cher and Dionne have different dress colors.\n",
        "兩人都戴耳環Cher and Dionne are both earing earrings.\n",
        "至少有一人穿粉紅色 At least one person is wearing pink.\n",
        "沒人穿綠色。 No one is wearing green.\n",
        "兩人穿同顏色的鞋子 Cher and Dionne have the same shoe color.\n",
        "\n",
        "例如\n",
        "print(f'At least one person is wearing pink? {cher_dress_color == \"pink\" or dionne_dress_color == \"pink\"}')\n",
        "\n",
        ".......請同學自行撰寫判斷程式"
      ]
    },
    {
      "cell_type": "markdown",
      "metadata": {
        "id": "RuVN7H1l2RSM"
      },
      "source": [
        "print (f'Both girls have different dress colors? {cher_dress_color != \"purple\" and dionne_dress_color != \"pink\"}')\n",
        "\n",
        "print(f\"Both girls are waering earrings? {cher_has_earrings == True and dionne_has_earrings == True}\")\n",
        "\n",
        "print(f'At least one person is wearing pink? {cher_dress_color == \"pink\" or dionne_dress_color == \"pink\"}')\n",
        "\n",
        "print(f'No one is wearing green? {cher_dress_color != \"green\" and dionne_dress_color != \"green\"}')\n",
        "\n",
        "print(f'Both girls have the same shoe colors? {(cher_shoe_color==\"pink\" and dionne_shoe_color == \"pink\") or (cher_shoe_color == \"white\" and dionne_shoe_color == \"white\")}')"
      ]
    },
    {
      "cell_type": "markdown",
      "metadata": {
        "id": "-_ne3tPp2RSN"
      },
      "source": [
        "練習7. Think Like a Computer Scientist\n",
        "如果輸入的num為20, 9, 5,和0，請用你的邏輯直接告訴我，下面兩組程式結果與差異:"
      ]
    },
    {
      "cell_type": "code",
      "metadata": {
        "id": "45MmDSVh2RSO"
      },
      "source": [
        "num = int(input(\"Enter a number: \"))\n",
        "\n",
        "\n",
        "## 方法（一）：if 敘述\n",
        "\n",
        "if num < 6:\n",
        "    print(\"num is less than 6\")\n",
        "if num < 10:\n",
        "    print(\"num is less than 10\")\n",
        "if num > 3:\n",
        "    print(\"num is greater than 3\")\n",
        "print(\"Finished.\")\n",
        "\n",
        "\n",
        "## 方法（二）：if-elif-else敘述\n",
        "\n",
        "if num < 6:\n",
        "    print(\"number is less than 6.\")\n",
        "elif num < 10:\n",
        "    print(\"number is less than 10.\")\n",
        "elif num > 3:\n",
        "    print(\"number is greater than 3.\")\n",
        "else:\n",
        "    print(\"No relation is found.\")\n",
        "print(\"Finished.\")"
      ],
      "execution_count": null,
      "outputs": []
    },
    {
      "cell_type": "markdown",
      "metadata": {
        "id": "tA1WQ9IH2RSO"
      },
      "source": [
        "## 3. 多向選擇"
      ]
    },
    {
      "cell_type": "markdown",
      "metadata": {
        "id": "4DiCq1ld2RSP"
      },
      "source": [
        "**範例：兩個數比大小**"
      ]
    },
    {
      "cell_type": "markdown",
      "metadata": {
        "id": "ZxXRE4I32RSP"
      },
      "source": [
        " In [1]: ## Input\n",
        "    ...: num1 = int(input(\"Please input a number: \"))\n",
        "    ...: num2 = int(input(\"Please input another number: \"))\n",
        "    ...: \n",
        "    ...: ## Process＋ Output\n",
        "    ...: if num1 == num2:\n",
        "    ...:     print(num1, \"等於\", num2)\n",
        "    ...: elif num1 < num2:\n",
        "    ...:     print(num1, \"小於\", num2)\n",
        "    ...: else:\n",
        "    ...:     print(num1, \"大於\", num2)\n",
        "\n",
        "Please input a number: 5\n",
        "\n",
        "Please input another number: 8\n",
        "5 小於 8"
      ]
    },
    {
      "cell_type": "code",
      "metadata": {
        "id": "7I9jgSfQ2RSP"
      },
      "source": [
        ""
      ],
      "execution_count": null,
      "outputs": []
    },
    {
      "cell_type": "markdown",
      "metadata": {
        "id": "891fCX6M2RSQ"
      },
      "source": [
        "#### 範例 : 郵資計算\n",
        "\n",
        "某快遞公司以重量為計算郵資的依據，重量與郵資計算如下表，請寫一個程式協助快遞人員計算郵資，快遞人員只要輸入重量，程式自動計算郵資。\n",
        "\n",
        "若重量小於等於5 公斤，則顯示「50」，否則若重量小於等於10 公斤，則顯示「70」，若重量小於等於15 公斤，則顯示「90」，若重量小於等於20 公斤，則顯示「110」，否則顯示「超過20 公斤無法寄送」。"
      ]
    },
    {
      "cell_type": "markdown",
      "metadata": {
        "id": "eIbNTXky2RSQ"
      },
      "source": [
        "In [1]: ## 郵資計算\n",
        "    ...: w = float(input('請輸入物品重量？')) # Input\n",
        "    ...: \n",
        "    ...: if w <= 5:                          \n",
        "    ...:     print('所需郵資為50元')\n",
        "    ...: elif w <= 10:\n",
        "    ...:     print('所需郵資為70元')\n",
        "    ...: elif w <= 15:\n",
        "    ...:     print('所需郵資為90元')\n",
        "    ...: elif w <= 20:\n",
        "    ...:     print('所需郵資為110元')\n",
        "    ...: else:\n",
        "    ...:     print('超過20公斤無法寄送')\n",
        "\n",
        "請輸入物品重量？20\n",
        "所需郵資為110元"
      ]
    },
    {
      "cell_type": "code",
      "metadata": {
        "colab": {
          "base_uri": "https://localhost:8080/"
        },
        "id": "iMbCedhd2RSR",
        "outputId": "81d805ed-dfe5-4332-e23b-fe789ad3841f"
      },
      "source": [
        "weight = input(\"Give me weight:\")\n",
        "weight = float(weight)\n",
        "\n",
        "if weight <= 5:\n",
        "       print(\"Pay 50\")\n",
        "elif weight <= 10:\n",
        "       print(\"Pay 70\")\n",
        "elif weight <= 15:  \n",
        "       print(\"Pay 90\")\n",
        "elif weight <= 20:  \n",
        "       print(\"Pay 110\")\n",
        "else:\n",
        "       print(\"Cannot sent\")"
      ],
      "execution_count": 2,
      "outputs": [
        {
          "output_type": "stream",
          "text": [
            "Give me weight:18\n",
            "Pay 110\n"
          ],
          "name": "stdout"
        }
      ]
    },
    {
      "cell_type": "markdown",
      "metadata": {
        "id": "za_4ykAP2RSR"
      },
      "source": [
        "#### 隨堂練習： BMI 計算\n",
        "\n",
        "**請寫一個程式讓使用者輸入身高與體重，顯示BMI 值與肥胖程度。**\n",
        "BMI 等於體重（KG）除以身高（M）的平方，而BMI 與肥胖分類標準如下：\n",
        "\n",
        "若BMI 值小於18，則顯示「體重過輕」，否則若BMI 值小於24，則顯示「體重正常」，若BMI 值小於27，則顯示「體重過重」，否則顯示「體重肥胖」。"
      ]
    },
    {
      "cell_type": "code",
      "metadata": {
        "id": "1hmttPv-2RSR"
      },
      "source": [
        ""
      ],
      "execution_count": null,
      "outputs": []
    },
    {
      "cell_type": "markdown",
      "metadata": {
        "id": "TTyyIFQ92RSR"
      },
      "source": [
        "## 4. 巢狀選擇"
      ]
    },
    {
      "cell_type": "markdown",
      "metadata": {
        "id": "uWtO_SwC2RSS"
      },
      "source": [
        "**範例：猜數字遊戲**\n",
        "\n",
        "使用者輸入的數不等於秘密數，則它會看到這個數太低或太高的訊息。"
      ]
    },
    {
      "cell_type": "markdown",
      "metadata": {
        "id": "vsHgf9Jm2RSS"
      },
      "source": [
        "## Guess the number.\n",
        "## 兩個雙向選擇\n",
        "secret_number = 83\n",
        "n = input(\"Guess a number between 1 and 100: \")\n",
        "n = int(n) # 文字轉數字\n",
        "\n",
        "if n == secret_number:\n",
        "\tprint(\"Guess Right!\")\n",
        "else:     # 猜錯則檢查太高或太低\n",
        "\tif n > secrete_number:\n",
        "\t\tprint(\"Guess lower!\") # 太高要往低猜\n",
        "\telse:\n",
        "\t\tprint(\"Guess higher\") # 太低要往高猜\n",
        "print(\"Thank you for joining the game!\")\n",
        "\n",
        "## 有沒有其他寫法"
      ]
    },
    {
      "cell_type": "code",
      "metadata": {
        "id": "Osd01PIQ2RST"
      },
      "source": [
        "## Guess the number\n",
        "## 兩個雙向選擇\n",
        "secret_number = 83\n",
        "n = input(\"Guess a number between 1 and 100:\")\n",
        "n = int(n) #文字轉數字\n",
        "\n",
        "if n == secret_number\n",
        "   print(\"Guess Right!\")\n",
        "else:    #猜錯則檢查太高或太低\n",
        "    if n >secrete_number:\n",
        "      print(\"Guess lower!\")#太高要往低猜\n",
        "    else:\n",
        "      print(\"Guess higher\")#太低要往高猜\n",
        "print(\"Thank you for joining the game!\")\n"
      ],
      "execution_count": null,
      "outputs": []
    },
    {
      "cell_type": "markdown",
      "metadata": {
        "id": "rillw3qm2RST"
      },
      "source": [
        "#### 範例: 分數與評語\n",
        "\n",
        "寫一個程式若成績大於等於80 分，評語為「非常好」；否則若成績大於等於60 分，評語為「不錯喔」；否則評語為「要加油」。"
      ]
    },
    {
      "cell_type": "markdown",
      "metadata": {
        "id": "KQiPAXZH2RST"
      },
      "source": [
        " In [1]: ## 方法（一）：單向選擇\n",
        "    ...: score = int(input('請輸入一個成績？'))\n",
        "    ...: if score >= 80:\n",
        "    ...:     print('非常好')\n",
        "    ...: if 80 > score >= 60: # 前面要有80>才行\n",
        "    ...:     print('不錯喔')\n",
        "    ...: if score < 60:    \n",
        "    ...:     print('要加油')\n",
        "\n",
        "請輸入一個成績？88\n",
        "非常好\n",
        "\n",
        " In [2]: ## 方法（二）：多向選擇\n",
        "    ...: score = int(input('請輸入一個成績？'))\n",
        "    ...: if score >= 80:\n",
        "    ...:     print('非常好')\n",
        "    ...: elif score >= 60:   # 前面不用有80>\n",
        "    ...:     print('不錯喔')\n",
        "    ...: else:\n",
        "    ...:     print('要加油')\n",
        "\n",
        "請輸入一個成績？88\n",
        "非常好\n",
        "\n",
        " In [3]: ## 方法（三）：雙向選擇＋巢狀選擇\n",
        "    ...: score = int(input('請輸入一個成績？'))\n",
        "    ...: if score >= 80:\n",
        "    ...:     print('非常好')\n",
        "    ...: else:\n",
        "    ...:     if score >= 60:\n",
        "    ...:         print('不錯喔')\n",
        "    ...:     else:\n",
        "    ...:         print('要加油')\n",
        "\n",
        "請輸入一個成績？88\n",
        "非常好"
      ]
    },
    {
      "cell_type": "code",
      "metadata": {
        "id": "SZ5vg95c2RSU"
      },
      "source": [
        ""
      ],
      "execution_count": null,
      "outputs": []
    },
    {
      "cell_type": "markdown",
      "metadata": {
        "id": "ratpHsff2RSU"
      },
      "source": [
        "####  隨堂練習： 三一律\n",
        "\n",
        "**請輸入一個數，然後判斷這個數是正數、是負數或者是零。**\n",
        "\n",
        "(單向選擇、雙向與巢狀選擇、多向選擇)"
      ]
    },
    {
      "cell_type": "code",
      "metadata": {
        "id": "r7YyVwAX2RSU"
      },
      "source": [
        "score = int(input('請輸入一個成績？'))\n",
        "\n",
        "if score >=80:\n",
        "       print(\"Well Done\")\n",
        "elif score >=60:\n",
        "       print(\"Pass\")\n",
        "else:\n",
        "       print(\"Fail\")       "
      ],
      "execution_count": null,
      "outputs": []
    },
    {
      "cell_type": "raw",
      "metadata": {
        "id": "tE_Fkf0t2RSU"
      },
      "source": [
        "####  加分練習 : 三一律延伸。\n",
        "\n",
        "**請輸入兩個數，然後判斷這兩個數是正數、是負數或者是零。**\n",
        "\n",
        "提示：用兩個巢狀多向迴圈"
      ]
    },
    {
      "cell_type": "code",
      "metadata": {
        "id": "eVhqrEd52RSV"
      },
      "source": [
        ""
      ],
      "execution_count": null,
      "outputs": []
    },
    {
      "cell_type": "markdown",
      "metadata": {
        "id": "luNPpHbk2RSV"
      },
      "source": [
        "#### 應用練習 1：電影評價\n",
        "\n",
        "movie_title = input('請輸入電影的名稱:')\n",
        "movie_rating = float(input('請輸入電影的評等:'))\n",
        "\n",
        "## 單向選擇 if條件句\n",
        "\n",
        "if movie_rating > 7:\n",
        "    print(f\"{movie_titl}的評分為{movie_rating}分值得去看！\")\n",
        "    \n",
        "\n",
        "## 二合一的單向選擇\n",
        "\n",
        "if movie_rating > 7:\n",
        "    print(f\"{}的評分為 {} 分值得去看！\")\n",
        "if movie_rating <= 7:\n",
        "    print(f\"{}的評分為 {} 分不值得去看！\")\n",
        "    \n",
        "## 雙向選擇\n",
        "if movie_rating > 7:\n",
        "    print(f\"{}的評分為 {} 分值得去看！\")\n",
        "else:\n",
        "    print(f\"{}的評分為 {} 分不值得去看！\")\n",
        "\n",
        "\n",
        "## 多向選擇\n",
        "if movie_rating > 7:\n",
        "     print(f\"{}的評分為 {} 分值得去看！\")\n",
        "elif movie_rating > 6:\n",
        "    print(f\"{}的評分為 {} 分不值得去看！\")\n",
        "else:\n",
        "    print(f\"{}的評分為 {} 分不要看!\")"
      ]
    },
    {
      "cell_type": "code",
      "metadata": {
        "id": "muGGONIY2RSV"
      },
      "source": [
        ""
      ],
      "execution_count": null,
      "outputs": []
    },
    {
      "cell_type": "markdown",
      "metadata": {
        "id": "av-ZwVoR2RSV"
      },
      "source": [
        "#### 應用練習 2：依照身份證字號，排隊領口罩\n",
        "\n",
        "user_int = int(input(\"請輸入一個正整數：\"))\n",
        "\n",
        "## 單向選擇\n",
        "\n",
        "if user_int % 2 == 0:\n",
        "    ans = \"偶數，請星期二四六日領口罩\"\n",
        "if user_int % 2 == 1:\n",
        "    ans = \"奇數，請星期一三五日領口罩\"\n",
        "print(ans)\n",
        "\n",
        "## 雙向選擇\n",
        "\n",
        "if user_int % 2 == 0:\n",
        "    ans = \"偶數，請星期二四六日領口罩\"\n",
        "else:\n",
        "    ans = \"奇數，請星期一三五日領口罩\"\n",
        "print(ans)\n"
      ]
    },
    {
      "cell_type": "markdown",
      "metadata": {
        "id": "0DZ-3RkU2RSW"
      },
      "source": [
        "## 雙向選擇(Optional)\n",
        "id_number = input(\"請輸入身分證字號：\")\n",
        "id_last_digit = id_number[-1] # 由右往左數\n",
        "id_last_digit = int(id_last_digit)# 文字轉數字\n",
        "\n",
        "if id_last_digit % 2 == 0:\n",
        "    ans = \"偶數，請星期二四六日領口罩\"\n",
        "else:\n",
        "    ans = \"奇數，請星期一三五日領口罩\"\n",
        "print(ans)\n",
        "\n",
        "## 雙向選擇\n",
        "id_number = input(\"請輸入身分證字號：\")\n",
        "id_second_digit = id_number[1]\n",
        "if id_second_digit == '1':\n",
        "    gender = \"Male\"\n",
        "else:\n",
        "    gender = \"Female\"\n",
        "print(gender)"
      ]
    },
    {
      "cell_type": "code",
      "metadata": {
        "id": "J8OIxXLh2RSW"
      },
      "source": [
        ""
      ],
      "execution_count": null,
      "outputs": []
    },
    {
      "cell_type": "markdown",
      "metadata": {
        "id": "dlK6v1py2RSW"
      },
      "source": [
        "#### 應用練習 3：冒險遊戲 - 過去還是未來\n",
        "\n",
        "name = \" Your name here\"\n",
        "\n",
        "print(f\"Welcome to {name}'s Choose Your Own Adventure game! As you follow the story, you will be presented with choices that decide your fate. Take care and choose wisely! Let's begin.\")\n",
        "\n",
        "print(f\"You find yourself in a dark room with 2 doors. The first door is red, the second is white!\")\n",
        "\n",
        "door_choice = input(\"Which door do you want to choose? red = red door or white = white door\")\n",
        "\n",
        "if door_choice == \"red\":\n",
        "\tprint(\"Great, you walk through the red door and are now in the future! You meet a scientist who gives you a mission of helping him save the world!\")\n",
        "\t\n",
        "\tchoose_one = input(\"What do you want to do? \n",
        "\t1 = Accept or 2 = Decline\")\n",
        "\tif choice_one == \"1\":\n",
        "\t\tprint(\"\"\"＿＿＿＿＿SUCCESS＿＿＿＿＿\n",
        "\t\tYou will helped the scientist save the world!\n",
        "\t\tIn gratitude, the scientist builds a time machine\n",
        "        and sends you home! \"\"\")\n",
        "\telse:\n",
        "\t\tprint(\"\"\"______GAME OVER______\n",
        "\t\tToo bad! You declined the sientist's offer and\n",
        "    \tnow you are stuck in the future!\"\"\")\n",
        "\n",
        "else:\n",
        "\tprint(\"Great, you walked through the white door and now you are in the past! You meet a princess who asks you to go on a request.\")\n",
        "\t\n",
        "\tquest_choice = input(\"Do you want to accept her offer and go on the quest, or do you want to stay where you are?  1 = Accept or 2 = Decline\")\n",
        "\t\n",
        "\tif quest_choice == \"1\":\n",
        "\t\tprint(\"\"\"＿＿＿＿＿SUCCESS＿＿＿＿＿\n",
        "        Princess thanks you for accepting her offer. You begin the quest.\"\"\")\n",
        "\telse:\n",
        "\t\tprint(\"\"\"______GAME OVER _____\n",
        "\t\tWell, I guess your story ends here!\"\"\")"
      ]
    },
    {
      "cell_type": "code",
      "metadata": {
        "id": "Oi5U8hAW2RSX"
      },
      "source": [
        ""
      ],
      "execution_count": null,
      "outputs": []
    }
  ]
}