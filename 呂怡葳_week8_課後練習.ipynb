{
  "nbformat": 4,
  "nbformat_minor": 0,
  "metadata": {
    "colab": {
      "name": "呂怡葳-week8-課後練習.ipynb",
      "provenance": [],
      "authorship_tag": "ABX9TyMRizKlIBfQ9mblbXvJ0Tie",
      "include_colab_link": true
    },
    "kernelspec": {
      "name": "python3",
      "display_name": "Python 3"
    },
    "language_info": {
      "name": "python"
    }
  },
  "cells": [
    {
      "cell_type": "markdown",
      "metadata": {
        "id": "view-in-github",
        "colab_type": "text"
      },
      "source": [
        "<a href=\"https://colab.research.google.com/github/a109010072/Computational-Thinking-and-Program-Design/blob/main/%E5%91%82%E6%80%A1%E8%91%B3_week8_%E8%AA%B2%E5%BE%8C%E7%B7%B4%E7%BF%92.ipynb\" target=\"_parent\"><img src=\"https://colab.research.google.com/assets/colab-badge.svg\" alt=\"Open In Colab\"/></a>"
      ]
    },
    {
      "cell_type": "markdown",
      "metadata": {
        "id": "zMrehFqtsvJE"
      },
      "source": [
        "**練習15：長跑健將**\n",
        "\n",
        "梁小星很喜歡運動，每天都堅持跑步5公里，為此他還買了一個手環。觀看手環可以記錄步數、距離、速度、時間等數據。梁小星想用Python寫一個統計時間的程式，你可以幫幫他嗎？(06'32, 07'21, 05,51, 07'03, 05'48)\n",
        "\n"
      ]
    },
    {
      "cell_type": "code",
      "metadata": {
        "colab": {
          "base_uri": "https://localhost:8080/"
        },
        "id": "afQq_4Ros1QZ",
        "outputId": "d2f73a56-af1d-4cf6-9222-ef4a4ef21ffd"
      },
      "source": [
        "sum=6*60+32\n",
        "sum=sum+7*60+21\n",
        "sum=sum+5*60+51\n",
        "sum=sum+7*60+3\n",
        "sum=sum+5*60+48\n",
        "minutes=sum++5*60+48\n",
        "print(int(sum/60),\"minutes\",sum%60,\"seconds\")"
      ],
      "execution_count": 1,
      "outputs": [
        {
          "output_type": "stream",
          "text": [
            "32 minutes 35 seconds\n"
          ],
          "name": "stdout"
        }
      ]
    },
    {
      "cell_type": "markdown",
      "metadata": {
        "id": "BUPqjdw6w_so"
      },
      "source": [
        "**練習12：格式化輸出，明星檔案**\n",
        "\n",
        "用Python語言編制一個明星檔案，帶你認識創造Python程式語言的大神！\n",
        "\n"
      ]
    },
    {
      "cell_type": "code",
      "metadata": {
        "colab": {
          "base_uri": "https://localhost:8080/"
        },
        "id": "_qZ6sFGzxDyI",
        "outputId": "2f8f6085-3739-48a2-c883-4348ae9b6f5e"
      },
      "source": [
        "## 明星資料\n",
        "## 相關資訊:姓名,年紀,出演電影\n",
        "## 在Python用變數儲存資訊\n",
        "movie_title=\"舒淇\"\n",
        "release_year=\"30\"\n",
        "movie_time_min=\"miss\"#出演電影\n",
        "##印出魔球電影的相關資訊\n",
        "print(movie_title)#螢幕列印\n",
        "print(release_year)\n",
        "print(movie_time_min)\n"
      ],
      "execution_count": 2,
      "outputs": [
        {
          "output_type": "stream",
          "text": [
            "舒淇\n",
            "30\n",
            "miss\n"
          ],
          "name": "stdout"
        }
      ]
    }
  ]
}